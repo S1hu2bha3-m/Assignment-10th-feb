{
 "cells": [
  {
   "cell_type": "markdown",
   "id": "bd9953c0-554c-4894-aada-4ab21dc784db",
   "metadata": {},
   "source": [
    "Q1. Which function is used to open a file? What are the different modes of opening a file? Explain each mode \n",
    "of file opening."
   ]
  },
  {
   "cell_type": "markdown",
   "id": "1997c552-ff60-4f70-a247-6745dbcdb666",
   "metadata": {},
   "source": [
    "Ans. In Python, the 'open()' function is used to open a file.\n",
    "\n",
    "The different modes of opening a file in Python are:\n",
    "\n",
    "'r' (read mode): This is the default mode. It is used to open a file for reading. If the file does not exist, an error will occur.\n",
    "\n",
    "'w' (write mode): This mode is used to open a file for writing. If the file does not exist, it will be created. If it already exists, the previous data in the file will be overwritten.\n",
    "\n",
    "'a' (append mode): This mode is used to open a file for appending. If the file does not exist, it will be created. If it already exists, the new data will be appended to the end of the file.\n",
    "\n",
    "'x' (exclusive mode): This mode is used to create a new file and open it for writing. If the file already exists, an error will occur.\n",
    "\n",
    "'b' (binary mode): This mode is used to open a file in binary mode.\n",
    "\n",
    "'t' (text mode): This mode is used to open a file in text mode. This is the default mode."
   ]
  },
  {
   "cell_type": "markdown",
   "id": "6017bd1f-fb36-47c0-a44f-5935c7cb9fcb",
   "metadata": {},
   "source": [
    "Q2. Why close() function is used? Why is it important to close a file?"
   ]
  },
  {
   "cell_type": "markdown",
   "id": "bd8ad344-12c5-4823-899d-08fc3bf7e912",
   "metadata": {},
   "source": [
    "Ans. Closing a file is important to ensure that any data written to the file is saved properly. If a file is not closed before the program terminates or the system crashes, any changes made to the file may be lost or corrupted, leading to data loss or inconsistencies."
   ]
  },
  {
   "cell_type": "markdown",
   "id": "9e32ed01-1907-48ff-b229-917beda606b4",
   "metadata": {},
   "source": [
    "Q3. Write a python program to create a text file. Write ‘I want to become a Data Scientist’ in that file. Then \n",
    "close the file. Open this file and read the content of the file.  "
   ]
  },
  {
   "cell_type": "code",
   "execution_count": 2,
   "id": "a7f193be-1f8d-4251-a9fe-aa47ed745e39",
   "metadata": {},
   "outputs": [
    {
     "name": "stdout",
     "output_type": "stream",
     "text": [
      "I want to become a Data Scientist\n"
     ]
    }
   ],
   "source": [
    "f = open(\"data_science.txt\", \"w\")\n",
    "f.write(\"I want to become a Data Scientist\")\n",
    "f.close()\n",
    "f = open(\"data_science.txt\", \"r\")\n",
    "content = f.read()\n",
    "f.close()\n",
    "print(content)\n"
   ]
  },
  {
   "cell_type": "markdown",
   "id": "80f2468c-cebf-4489-b30b-36ca1251c113",
   "metadata": {},
   "source": [
    "Q4. Explain the following with python code: read(), readline() and readlines()."
   ]
  },
  {
   "cell_type": "markdown",
   "id": "469b8b78-4488-4b8f-abec-ce60a9bb59d4",
   "metadata": {},
   "source": [
    "Ans. 'read()': This method reads the entire contents of a file and returns it as a string.\n"
   ]
  },
  {
   "cell_type": "code",
   "execution_count": 3,
   "id": "70a9654e-cd1c-4ec3-a73d-c7536149fb08",
   "metadata": {},
   "outputs": [
    {
     "name": "stdout",
     "output_type": "stream",
     "text": [
      "I want to become a Data Scientist\n"
     ]
    }
   ],
   "source": [
    "with open(\"data_science.txt\", \"r\") as f:\n",
    "    data = f.read()\n",
    "\n",
    "print(data)\n"
   ]
  },
  {
   "cell_type": "markdown",
   "id": "464d77aa-c581-4121-ba86-5b4f46864232",
   "metadata": {},
   "source": [
    "'readline()': This method reads one line of a file at a time and returns it as a string."
   ]
  },
  {
   "cell_type": "code",
   "execution_count": 4,
   "id": "1c1ff722-b0de-4496-b14c-2a42c67520e5",
   "metadata": {},
   "outputs": [
    {
     "name": "stdout",
     "output_type": "stream",
     "text": [
      "I want to become a Data Scientist\n",
      "\n"
     ]
    }
   ],
   "source": [
    "with open(\"data_science.txt\", \"r\") as f:\n",
    "    line1 = f.readline()\n",
    "    line2 = f.readline()\n",
    "\n",
    "print(line1)\n",
    "print(line2)\n"
   ]
  },
  {
   "cell_type": "markdown",
   "id": "42f697e8-6a64-4ed8-a911-72aad91d3918",
   "metadata": {},
   "source": [
    "'readlines()': This method reads all the lines of a file and returns them as a list of strings."
   ]
  },
  {
   "cell_type": "code",
   "execution_count": 5,
   "id": "15c37483-303f-4f7d-a642-6b1c5dfa99ba",
   "metadata": {},
   "outputs": [
    {
     "name": "stdout",
     "output_type": "stream",
     "text": [
      "['I want to become a Data Scientist']\n"
     ]
    }
   ],
   "source": [
    "with open(\"data_science.txt\", \"r\") as f:\n",
    "    lines = f.readlines()\n",
    "\n",
    "print(lines)\n"
   ]
  },
  {
   "cell_type": "markdown",
   "id": "af3982a6-9b7c-4e74-962a-e47b2066662e",
   "metadata": {},
   "source": [
    "Q5. Explain why with statement is used with open(). What is the advantage of using with statement and \n",
    "open() together?"
   ]
  },
  {
   "cell_type": "markdown",
   "id": "7987d354-6563-42c5-8a25-79eb7644c2ab",
   "metadata": {},
   "source": [
    "Ans. The with statement is used in Python when working with unmanaged resources, such as file I/O, to ensure that resources are properly managed and released. The with statement is typically used with the open() function to open a file and automatically close it when the block of code inside the with statement is exited.\n",
    "\n",
    "The main advantage of using the with statement with open() is that it automatically handles closing the file when the block of code inside the with statement completes, even if an exception occurs. This helps prevent resource leaks and ensures that the file is properly closed even if an error occurs while processing the file."
   ]
  },
  {
   "cell_type": "markdown",
   "id": "2f6081eb-5f0a-45f5-97a3-ba46fdff362a",
   "metadata": {},
   "source": [
    "Q6. Explain the write() and writelines() functions. Give a suitable example"
   ]
  },
  {
   "cell_type": "markdown",
   "id": "526a52af-4982-4e43-ab8c-028f715288fd",
   "metadata": {},
   "source": [
    "Ans. The write() function is used to write a single string to a file. It returns the number of characters written to the file. If the file already exists, the write() function overwrites the existing contents of the file with the new data."
   ]
  },
  {
   "cell_type": "code",
   "execution_count": 8,
   "id": "332c2af2-d1b3-4ab0-8330-3ad023884859",
   "metadata": {},
   "outputs": [],
   "source": [
    "with open(\"data_science.txt\", \"w\") as f:\n",
    "    f.write(\"PWSKILLS\")\n"
   ]
  },
  {
   "cell_type": "markdown",
   "id": "1a03b6f1-fbd7-47d1-bfe3-a3271b729ff8",
   "metadata": {},
   "source": [
    "The writelines() function is used to write a list of strings to a file. Each string in the list represents a line of text in the file. If the file already exists, the writelines() function overwrites the existing contents of the file with the new data."
   ]
  },
  {
   "cell_type": "code",
   "execution_count": 7,
   "id": "0ba56e8d-6436-4bd6-bf43-1655dc2e06b2",
   "metadata": {},
   "outputs": [],
   "source": [
    "lines = [\"Shubham\", \"Gupta\", \"Datascience\"]\n",
    "\n",
    "with open(\"data_science.txt\", \"w\") as f:\n",
    "    f.writelines(lines)\n"
   ]
  },
  {
   "cell_type": "code",
   "execution_count": null,
   "id": "5b8142ea-618b-49cd-8c32-b12ac5bde7bb",
   "metadata": {},
   "outputs": [],
   "source": []
  }
 ],
 "metadata": {
  "kernelspec": {
   "display_name": "Python 3 (ipykernel)",
   "language": "python",
   "name": "python3"
  },
  "language_info": {
   "codemirror_mode": {
    "name": "ipython",
    "version": 3
   },
   "file_extension": ".py",
   "mimetype": "text/x-python",
   "name": "python",
   "nbconvert_exporter": "python",
   "pygments_lexer": "ipython3",
   "version": "3.10.8"
  }
 },
 "nbformat": 4,
 "nbformat_minor": 5
}
